{
 "cells": [
  {
   "cell_type": "code",
   "execution_count": 105,
   "id": "2dad3308",
   "metadata": {},
   "outputs": [],
   "source": [
    "from elasticsearch import Elasticsearch\n",
    "import urllib3\n",
    "import pandas as pd\n",
    "import warnings\n",
    "from flatten_json import flatten\n",
    "\n",
    "ELASTIC_PASS = \"s2vPb2xWVfcbczx7vfxS\"\n",
    "NODES = [\n",
    "    \"https://esh1p.soc.diverto.lan:9200\",\n",
    "    \"https://esh2p.soc.diverto.lan:9200\",\n",
    "    \n",
    "]\n",
    "urllib3.disable_warnings(urllib3.exceptions.InsecureRequestWarning)\n",
    "warnings.simplefilter(action='ignore', category=FutureWarning)\n"
   ]
  },
  {
   "cell_type": "markdown",
   "id": "8fd64528",
   "metadata": {},
   "source": [
    "**Connect to Elasticsearch**"
   ]
  },
  {
   "cell_type": "code",
   "execution_count": 106,
   "id": "e35ae531",
   "metadata": {},
   "outputs": [
    {
     "name": "stderr",
     "output_type": "stream",
     "text": [
      "/home/filipzag/.local/lib/python3.9/site-packages/elasticsearch/_sync/client/__init__.py:395: SecurityWarning: Connecting to 'https://esh1p.soc.diverto.lan:9200' using TLS with verify_certs=False is insecure\n",
      "  _transport = transport_class(\n",
      "/home/filipzag/.local/lib/python3.9/site-packages/elasticsearch/_sync/client/__init__.py:395: SecurityWarning: Connecting to 'https://esh2p.soc.diverto.lan:9200' using TLS with verify_certs=False is insecure\n",
      "  _transport = transport_class(\n"
     ]
    }
   ],
   "source": [
    "es = Elasticsearch(NODES,\n",
    "    basic_auth=(\"elastic\", ELASTIC_PASS),\n",
    "    verify_certs=False                       \n",
    ")\n"
   ]
  },
  {
   "cell_type": "code",
   "execution_count": 162,
   "id": "9fe6f296",
   "metadata": {},
   "outputs": [],
   "source": [
    "process_id = \"8980\"\n",
    "index_pattern = \"windows\"\n",
    "\n",
    "\n",
    "resp = es.search(index=index_pattern,\n",
    "          query={\"term\":{\n",
    "                  \"process.pid\":{ \n",
    "                    \"value\": process_id\n",
    "          }}},\n",
    "          source = [ \"process.name\", \"process.pid\", \"process.parent.pid\"] )\n"
   ]
  },
  {
   "cell_type": "code",
   "execution_count": 164,
   "id": "21671198",
   "metadata": {},
   "outputs": [
    {
     "name": "stdout",
     "output_type": "stream",
     "text": [
      "{'process': {'name': 'svchost.exe', 'pid': 8980}}\n",
      "{'process': {'name': 'svchost.exe', 'pid': 8980}}\n",
      "{'process': {'name': 'svchost.exe', 'pid': 8980}}\n",
      "{'process': {'name': 'svchost.exe', 'pid': 8980}}\n",
      "{'process': {'name': 'svchost.exe', 'pid': 8980}}\n",
      "{'process': {'name': 'svchost.exe', 'pid': 8980}}\n",
      "{'process': {'name': 'svchost.exe', 'pid': 8980}}\n",
      "{'process': {'name': 'svchost.exe', 'pid': 8980}}\n",
      "{'process': {'name': 'svchost.exe', 'pid': 8980}}\n",
      "{'process': {'name': 'svchost.exe', 'pid': 8980}}\n"
     ]
    },
    {
     "data": {
      "text/html": [
       "<div>\n",
       "<style scoped>\n",
       "    .dataframe tbody tr th:only-of-type {\n",
       "        vertical-align: middle;\n",
       "    }\n",
       "\n",
       "    .dataframe tbody tr th {\n",
       "        vertical-align: top;\n",
       "    }\n",
       "\n",
       "    .dataframe thead th {\n",
       "        text-align: right;\n",
       "    }\n",
       "</style>\n",
       "<table border=\"1\" class=\"dataframe\">\n",
       "  <thead>\n",
       "    <tr style=\"text-align: right;\">\n",
       "      <th></th>\n",
       "      <th>process_name</th>\n",
       "      <th>process_pid</th>\n",
       "    </tr>\n",
       "  </thead>\n",
       "  <tbody>\n",
       "    <tr>\n",
       "      <th>0</th>\n",
       "      <td>svchost.exe</td>\n",
       "      <td>8980</td>\n",
       "    </tr>\n",
       "  </tbody>\n",
       "</table>\n",
       "</div>"
      ],
      "text/plain": [
       "  process_name  process_pid\n",
       "0  svchost.exe         8980"
      ]
     },
     "execution_count": 164,
     "metadata": {},
     "output_type": "execute_result"
    }
   ],
   "source": [
    "df = pd.DataFrame()\n",
    "\n",
    "\n",
    "for hit in resp['hits']['hits']:\n",
    " \n",
    "    \n",
    "    flat_hit_source = flatten(hit['_source'])\n",
    "    print(hit)\n",
    "#    hit_df = pd.DataFrame(flat_hit_source, index =[0])\n",
    "#    df_out = df.append(hit_df, ignore_index=True)\n",
    "    \n",
    "\n",
    "    \n",
    "\n",
    "    \n",
    "df_out"
   ]
  },
  {
   "cell_type": "code",
   "execution_count": null,
   "id": "38185e3c",
   "metadata": {},
   "outputs": [],
   "source": []
  },
  {
   "cell_type": "code",
   "execution_count": null,
   "id": "e5fab5e7",
   "metadata": {},
   "outputs": [],
   "source": []
  },
  {
   "cell_type": "code",
   "execution_count": null,
   "id": "b6613c22",
   "metadata": {},
   "outputs": [],
   "source": []
  },
  {
   "cell_type": "code",
   "execution_count": null,
   "id": "713a43a9",
   "metadata": {},
   "outputs": [],
   "source": []
  }
 ],
 "metadata": {
  "kernelspec": {
   "display_name": "Python 3 (ipykernel)",
   "language": "python",
   "name": "python3"
  },
  "language_info": {
   "codemirror_mode": {
    "name": "ipython",
    "version": 3
   },
   "file_extension": ".py",
   "mimetype": "text/x-python",
   "name": "python",
   "nbconvert_exporter": "python",
   "pygments_lexer": "ipython3",
   "version": "3.9.5"
  }
 },
 "nbformat": 4,
 "nbformat_minor": 5
}
