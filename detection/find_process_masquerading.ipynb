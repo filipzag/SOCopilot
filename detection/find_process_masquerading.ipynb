{
 "cells": [
  {
   "cell_type": "markdown",
   "id": "92269680",
   "metadata": {},
   "source": [
    "### Connect to elasticsearch"
   ]
  },
  {
   "cell_type": "code",
   "execution_count": 16,
   "id": "ec52238a",
   "metadata": {},
   "outputs": [],
   "source": [
    "from elasticsearch import Elasticsearch\n",
    "import urllib3\n",
    "import warnings\n",
    "from flatten_json import flatten\n",
    "import os\n",
    "import jinja2\n",
    "import json\n",
    "import polars as pl\n",
    "\n",
    "\n",
    "ELASTIC_PASS = os.environ[\"ES_PASS\"]\n",
    "NODES = [\n",
    "    \"https://esh1p:9200\",\n",
    "    \"https://esh2p:9200\",\n",
    "    \n",
    "]\n",
    "urllib3.disable_warnings(urllib3.exceptions.InsecureRequestWarning)\n",
    "warnings.simplefilter(action='ignore', category=Warning)\n",
    "\n",
    "\n",
    "\n",
    "es = Elasticsearch(NODES,\n",
    "    basic_auth=(\"elastic\", ELASTIC_PASS),\n",
    "    verify_certs=False                       \n",
    ")"
   ]
  },
  {
   "cell_type": "markdown",
   "id": "e02f7210",
   "metadata": {},
   "source": [
    "### Find masquerading processes(https://attack.mitre.org/techniques/T1036/005/) using fuzzy search"
   ]
  },
  {
   "cell_type": "code",
   "execution_count": 60,
   "id": "5c8a2795",
   "metadata": {
    "scrolled": false
   },
   "outputs": [],
   "source": [
    "environment = jinja2.Environment()\n",
    "\n",
    "\n",
    "#optional variables to for search\n",
    "commonly_abused_processes = [\"svchost.exe\", \"explorer.exe\", \"iexplore.exe\"]\n",
    "index_pattern = \"windows\"\n",
    "\n",
    "# create polars dataframe\n",
    "df = pl.DataFrame()\n",
    "\n",
    "\n",
    "\n",
    "search_request_template = environment.from_string('''\n",
    " {\n",
    "    \n",
    "    \"bool\": {\n",
    "\n",
    "      \"should\": [\n",
    "\n",
    "        {\n",
    "          \"match\": { \"event.provider\": \"Microsoft-Windows-Sysmon\"  }\n",
    "        },\n",
    "    {%for pname in process_name_arr %}\n",
    "    \n",
    "        {\"fuzzy\": {\n",
    "          \"process.name\": {\n",
    "            \"value\": \"{{pname}}\"\n",
    "          }\n",
    "        }}\n",
    "        \n",
    "    {%if process_name_arr.index(pname)  < (process_name_arr | length - 1 ) %} , {%endif%}\n",
    "    \n",
    "    {%endfor%}\n",
    "    ],\n",
    "    \"must_not\": [\n",
    "    \n",
    "    {%for pname in process_name_arr %}\n",
    "    \n",
    "      {\n",
    "        \"term\": {\n",
    "            \"process.name\": \"{{pname}}\"\n",
    "        }\n",
    "      }\n",
    "      \n",
    "    {%if process_name_arr.index(pname)  < (process_name_arr | length - 1 ) %} , {%endif%}  \n",
    "      \n",
    "    {%endfor%}\n",
    "\n",
    "      ] \n",
    "    }\n",
    "  }\n",
    "\n",
    "''')\n",
    "\n",
    "\n",
    "search_req_json = json.loads(search_request_template.render(process_name_arr = commonly_abused_processes))\n",
    "response = es.search(index=index_pattern,\n",
    "                     query=search_req_json,\n",
    "                         source = [ \"process.name\", \"process.executable\", \"process.parent.executable\"])\n"
   ]
  },
  {
   "cell_type": "code",
   "execution_count": 62,
   "id": "2c56d7ec",
   "metadata": {},
   "outputs": [
    {
     "name": "stdout",
     "output_type": "stream",
     "text": [
      "shape: (5, 3)\n",
      "┌──────────────┬─────────────────────────────────┬─────────────────────────────────────┐\n",
      "│ process_name ┆ process_executable              ┆ parent_executable                   │\n",
      "│ ---          ┆ ---                             ┆ ---                                 │\n",
      "│ str          ┆ str                             ┆ str                                 │\n",
      "╞══════════════╪═════════════════════════════════╪═════════════════════════════════════╡\n",
      "│ scvhost.exe  ┆ C:\\Users\\Filip\\dist\\scvhost.exe ┆ C:\\Windows\\System32\\WindowsPower... │\n",
      "│ scvhost.exe  ┆ C:\\Users\\Filip\\dist\\scvhost.exe ┆ C:\\Users\\Filip\\dist\\scvhost.exe     │\n",
      "│ scvhost.exe  ┆ C:\\Users\\Filip\\dist\\scvhost.exe ┆ None                                │\n",
      "│ sihost.exe   ┆ C:\\Windows\\System32\\sihost.exe  ┆ C:\\Windows\\System32\\svchost.exe     │\n",
      "│ sihost.exe   ┆ C:\\Windows\\System32\\sihost.exe  ┆ None                                │\n",
      "└──────────────┴─────────────────────────────────┴─────────────────────────────────────┘\n"
     ]
    }
   ],
   "source": [
    "for event in response['hits']['hits']:\n",
    "    \n",
    "    \n",
    "    if \"parent\" in event['_source']['process'].keys():\n",
    "        row = pl.DataFrame({ \"process_name\": event['_source']['process']['name'], \"process_executable\": event['_source']['process']['executable'] , \"parent_executable\": event['_source']['process']['parent']['executable']  })\n",
    "        \n",
    "    else:\n",
    "        row = pl.DataFrame({ \"process_name\": event['_source']['process']['name'], \"process_executable\": event['_source']['process']['executable'], \"parent_executable\": \"None\" })\n",
    "\n",
    "    \n",
    "    df = pl.concat([df, row])\n",
    "    \n",
    "print(df.unique())"
   ]
  }
 ],
 "metadata": {
  "kernelspec": {
   "display_name": "Python 3 (ipykernel)",
   "language": "python",
   "name": "python3"
  },
  "language_info": {
   "codemirror_mode": {
    "name": "ipython",
    "version": 3
   },
   "file_extension": ".py",
   "mimetype": "text/x-python",
   "name": "python",
   "nbconvert_exporter": "python",
   "pygments_lexer": "ipython3",
   "version": "3.9.5"
  }
 },
 "nbformat": 4,
 "nbformat_minor": 5
}
