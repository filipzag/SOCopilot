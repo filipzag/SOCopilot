{
 "cells": [
  {
   "cell_type": "code",
   "execution_count": 1,
   "id": "9a3392f0",
   "metadata": {},
   "outputs": [],
   "source": [
    "from elasticsearch import Elasticsearch\n",
    "import urllib3\n",
    "import pandas as pd\n",
    "import warnings\n",
    "from flatten_json import flatten\n",
    "from helpers import LinkedList\n",
    "import os\n",
    "\n",
    "\n",
    "ELASTIC_PASS = os.environ[\"ES_PASS\"]\n",
    "NODES = [\n",
    "    \"https://esh1p:9200\",\n",
    "    \"https://esh2p:9200\",\n",
    "    \n",
    "]\n",
    "urllib3.disable_warnings(urllib3.exceptions.InsecureRequestWarning)\n",
    "warnings.simplefilter(action='ignore', category=FutureWarning)\n"
   ]
  },
  {
   "cell_type": "markdown",
   "id": "90b1f17c",
   "metadata": {},
   "source": [
    "**Connect to Elasticsearch**"
   ]
  },
  {
   "cell_type": "code",
   "execution_count": 2,
   "id": "3ad03a17",
   "metadata": {},
   "outputs": [
    {
     "name": "stderr",
     "output_type": "stream",
     "text": [
      "/home/filipzag/.local/lib/python3.9/site-packages/elasticsearch/_sync/client/__init__.py:395: SecurityWarning: Connecting to 'https://esh1p:9200' using TLS with verify_certs=False is insecure\n",
      "  _transport = transport_class(\n",
      "/home/filipzag/.local/lib/python3.9/site-packages/elasticsearch/_sync/client/__init__.py:395: SecurityWarning: Connecting to 'https://esh2p:9200' using TLS with verify_certs=False is insecure\n",
      "  _transport = transport_class(\n"
     ]
    }
   ],
   "source": [
    "es = Elasticsearch(NODES,\n",
    "    basic_auth=(\"elastic\", ELASTIC_PASS),\n",
    "    verify_certs=False                       \n",
    ")\n"
   ]
  },
  {
   "cell_type": "markdown",
   "id": "140d45b2",
   "metadata": {},
   "source": [
    "**Get data**"
   ]
  },
  {
   "cell_type": "code",
   "execution_count": 3,
   "id": "d7d086fa",
   "metadata": {},
   "outputs": [],
   "source": [
    "process_id = \"8980\"\n",
    "index_pattern = \"windows\"\n",
    "process_eid = \"{f97bd2d6-b164-6393-040c-000000006c00}\"\n",
    "host_name = \"WKSIBUDIMLIC.corp.diverto.hr\"\n",
    "\n",
    "q_str = 'event.code: 1 AND host.name: \"{}\" AND proces.entity_id: \"{}\"'.format(host_name, process_eid)\n",
    "\n",
    "\n",
    "## Linked list of linked processes\n",
    "linked_processes = LinkedList()\n",
    "\n",
    "\n",
    "def  get_parent_process(process_eid):\n",
    "    q_str = 'event.code: 1 AND host.name: \"{}\" AND process.entity_id: \"{}\"'.format(host_name, process_eid)\n",
    "    \n",
    "    response = es.search(index=index_pattern,\n",
    "          query={\"query_string\": {\n",
    "                   \"query\": q_str }},source = [ \"process.name\", \"process.entity_id\", \"process.parent.entity_id\"] \n",
    "          )\n",
    "    \n",
    "    if len(response['hits']['hits']) > 0:\n",
    "        \n",
    "        linked_processes.insert(response['hits']['hits'][0]['_source']['process']['name'])\n",
    "        \n",
    "        \n",
    "        if response['hits']['hits'][0]['_source']['process']['parent']:\n",
    "            \n",
    "            get_parent_process(response['hits']['hits'][0]['_source']['process']['parent']['entity_id'])\n",
    "        \n",
    "        \n",
    "        \n",
    "get_parent_process(process_eid)"
   ]
  },
  {
   "cell_type": "markdown",
   "id": "b49cd2fe",
   "metadata": {},
   "source": [
    "**Print process ancestry**"
   ]
  },
  {
   "cell_type": "code",
   "execution_count": 4,
   "id": "3d2b83b9",
   "metadata": {},
   "outputs": [
    {
     "name": "stdout",
     "output_type": "stream",
     "text": [
      "smss.exe => smss.exe => wininit.exe => services.exe => svchost.exe => raserver.exe"
     ]
    }
   ],
   "source": [
    "node = linked_processes.get_head()\n",
    "\n",
    "while node != None:\n",
    "    if node.get_next() == None:\n",
    "        print(node.get_data(),end = \"\")\n",
    "    else:\n",
    "    \n",
    "        print( node.get_data(),end = \" => \")\n",
    "    node = node.get_next()\n",
    "    \n"
   ]
  },
  {
   "cell_type": "markdown",
   "id": "abfd5fbb",
   "metadata": {},
   "source": [
    "\n",
    "\n"
   ]
  },
  {
   "cell_type": "markdown",
   "id": "746ea60d",
   "metadata": {},
   "source": [
    "#### Process tree"
   ]
  },
  {
   "cell_type": "code",
   "execution_count": 153,
   "id": "7b5c0bbf",
   "metadata": {
    "scrolled": false
   },
   "outputs": [],
   "source": [
    "from helpers2 import Process\n",
    "import networkx as nx\n",
    "import matplotlib.pyplot as plt\n",
    "\n",
    "process_graph = nx.DiGraph()\n",
    "postions = []\n",
    "## Query specification\n",
    "\n",
    "\n",
    "index_pattern = \"windows\"\n",
    "process_eid = \"{c14b16f5-01b1-639e-3819-000000003900}\"\n",
    "host_name = \"DESKTOP-FD5EBH9\"\n",
    "\n",
    "\n",
    "q_str = 'event.code: 1 AND host.name: \"{}\" AND proces.entity_id: \"{}\"'.format(host_name, process_eid)\n",
    "\n",
    "\n",
    "\n",
    "#starting_process = Process(name, process_id)\n",
    "#process_graph.add_node(starting_process.get_id(), pname = starting_process.get_name())\n",
    "\n",
    "def get_child_process(process_eid):\n",
    "    \n",
    "    \n",
    "    q_str = 'event.code: 1 AND host.name: \"{}\" AND process.parent.entity_id: \"{}\"'.format(host_name, process_eid)\n",
    "    \n",
    "    response = es.search(index=index_pattern,\n",
    "          query={\"query_string\": {\n",
    "                   \"query\": q_str }},source = [ \"process.name\", \"process.entity_id\", \"process.parent.entity_id\"] \n",
    "          )\n",
    "    \n",
    "    \n",
    "    if len(response['hits']['hits']) > 0:\n",
    "        \n",
    "        for event in response['hits']['hits']:\n",
    "                \n",
    "            \n",
    "            process_graph.add_node(event['_source']['process']['entity_id'], pname = event['_source']['process']['name'], shape = \"ellipse\")\n",
    "            process_graph.add_edge(process_eid,event['_source']['process']['entity_id'], weight = 5)\n",
    "            \n",
    "            \n",
    "            get_child_process(event['_source']['process']['entity_id'])\n",
    "\n",
    "            \n",
    "            \n",
    "\n",
    "def  get_parent_process(process_eid):\n",
    "    \n",
    "    \n",
    "    q_str = 'event.code: 1 AND host.name: \"{}\" AND process.entity_id: \"{}\"'.format(host_name, process_eid)\n",
    "    \n",
    "    \n",
    "    response = es.search(index=index_pattern,\n",
    "          query={\"query_string\": {\n",
    "                   \"query\": q_str }},source = [ \"process.name\", \"process.entity_id\", \"process.parent.entity_id\", \"process.parent.executable\"] \n",
    "          )\n",
    "    \n",
    "    \n",
    "    \n",
    "    if len(response['hits']['hits']) > 0:\n",
    "        \n",
    "        target_process = response['hits']['hits'][0][\"_source\"]\n",
    "        \n",
    "        process_graph.add_node(target_process['process']['entity_id'], pname = target_process['process']['name'], shape = \"ellipse\" )\n",
    "      \n",
    "    \n",
    "        \n",
    "        if target_process['process']['parent']['executable'] not in [\"System\", \"C:\\\\Windows\\\\System32\\\\userinit.exe\"]:\n",
    "            \n",
    "            process_graph.add_edge(target_process['process']['parent']['entity_id'], process_eid)  \n",
    "            get_parent_process(target_process['process']['parent']['entity_id'])\n",
    "            \n",
    "            get_child_process(process_eid)\n",
    "    else:\n",
    "        \n",
    "        get_child_process(process_eid)\n",
    "        \n",
    "        \n",
    "        \n",
    "get_parent_process(process_eid)\n"
   ]
  },
  {
   "cell_type": "markdown",
   "id": "e5e18a66",
   "metadata": {},
   "source": [
    "**Plot results**"
   ]
  },
  {
   "cell_type": "code",
   "execution_count": 159,
   "id": "6c6ad61d",
   "metadata": {},
   "outputs": [
    {
     "data": {
      "image/png": "[encoded data removed]",
      "text/plain": [
       "<Figure size 1000x1000 with 1 Axes>"
      ]
     },
     "metadata": {},
     "output_type": "display_data"
    }
   ],
   "source": [
    "\n",
    "color_map = ['red' if node == process_eid else 'skyblue' for node in process_graph]\n",
    "\n",
    "\n",
    "labels = nx.get_node_attributes(process_graph, 'pname')\n",
    "\n",
    "pos = nx.planar_layout(process_graph)\n",
    "nx.draw(process_graph, with_labels = True, font_weight = 'bold',labels = labels, pos = pos, node_color = color_map,node_size = 400)\n",
    "\n"
   ]
  },
  {
   "cell_type": "code",
   "execution_count": null,
   "id": "437d100f",
   "metadata": {},
   "outputs": [],
   "source": []
  },
  {
   "cell_type": "code",
   "execution_count": null,
   "id": "101e7699",
   "metadata": {},
   "outputs": [],
   "source": []
  }
 ],
 "metadata": {
  "kernelspec": {
   "display_name": "Python 3 (ipykernel)",
   "language": "python",
   "name": "python3"
  },
  "language_info": {
   "codemirror_mode": {
    "name": "ipython",
    "version": 3
   },
   "file_extension": ".py",
   "mimetype": "text/x-python",
   "name": "python",
   "nbconvert_exporter": "python",
   "pygments_lexer": "ipython3",
   "version": "3.9.5"
  }
 },
 "nbformat": 4,
 "nbformat_minor": 5
}
