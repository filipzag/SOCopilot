{
 "cells": [
  {
   "cell_type": "code",
   "execution_count": 1,
   "id": "9a3392f0",
   "metadata": {},
   "outputs": [],
   "source": [
    "from elasticsearch import Elasticsearch\n",
    "import urllib3\n",
    "import warnings\n",
    "from flatten_json import flatten\n",
    "from helpers import LinkedList\n",
    "import os\n",
    "\n",
    "\n",
    "ELASTIC_PASS = os.environ[\"ES_PASS\"]\n",
    "NODES = [\n",
    "    \"https://esh1p:9200\",\n",
    "    \"https://esh2p:9200\",\n",
    "    \n",
    "]\n",
    "urllib3.disable_warnings(urllib3.exceptions.InsecureRequestWarning)\n",
    "warnings.simplefilter(action='ignore', category=FutureWarning)\n"
   ]
  },
  {
   "cell_type": "markdown",
   "id": "90b1f17c",
   "metadata": {},
   "source": [
    "**Connect to Elasticsearch**"
   ]
  },
  {
   "cell_type": "code",
   "execution_count": 2,
   "id": "3ad03a17",
   "metadata": {},
   "outputs": [
    {
     "name": "stderr",
     "output_type": "stream",
     "text": [
      "/home/filipzag/.local/lib/python3.9/site-packages/elasticsearch/_sync/client/__init__.py:395: SecurityWarning: Connecting to 'https://esh1p:9200' using TLS with verify_certs=False is insecure\n",
      "  _transport = transport_class(\n",
      "/home/filipzag/.local/lib/python3.9/site-packages/elasticsearch/_sync/client/__init__.py:395: SecurityWarning: Connecting to 'https://esh2p:9200' using TLS with verify_certs=False is insecure\n",
      "  _transport = transport_class(\n"
     ]
    }
   ],
   "source": [
    "es = Elasticsearch(NODES,\n",
    "    basic_auth=(\"elastic\", ELASTIC_PASS),\n",
    "    verify_certs=False                       \n",
    ")\n"
   ]
  },
  {
   "cell_type": "markdown",
   "id": "140d45b2",
   "metadata": {},
   "source": [
    "**Get data**"
   ]
  },
  {
   "cell_type": "code",
   "execution_count": 3,
   "id": "d7d086fa",
   "metadata": {},
   "outputs": [],
   "source": [
    "process_id = \"8980\"\n",
    "index_pattern = \"windows\"\n",
    "process_eid = \"{f97bd2d6-b164-6393-040c-000000006c00}\"\n",
    "host_name = \"WKSIBUDIMLIC.corp.diverto.hr\"\n",
    "\n",
    "q_str = 'event.code: 1 AND host.name: \"{}\" AND proces.entity_id: \"{}\"'.format(host_name, process_eid)\n",
    "\n",
    "\n",
    "## Linked list of linked processes\n",
    "linked_processes = LinkedList()\n",
    "\n",
    "\n",
    "def  get_parent_process(process_eid):\n",
    "    q_str = 'event.code: 1 AND host.name: \"{}\" AND process.entity_id: \"{}\"'.format(host_name, process_eid)\n",
    "    \n",
    "    response = es.search(index=index_pattern,\n",
    "          query={\"query_string\": {\n",
    "                   \"query\": q_str }},source = [ \"process.name\", \"process.entity_id\", \"process.parent.entity_id\"] \n",
    "          )\n",
    "    \n",
    "    if len(response['hits']['hits']) > 0:\n",
    "        \n",
    "        linked_processes.insert(response['hits']['hits'][0]['_source']['process']['name'])\n",
    "        \n",
    "        \n",
    "        if response['hits']['hits'][0]['_source']['process']['parent']:\n",
    "            \n",
    "            get_parent_process(response['hits']['hits'][0]['_source']['process']['parent']['entity_id'])\n",
    "        \n",
    "        \n",
    "        \n",
    "get_parent_process(process_eid)"
   ]
  },
  {
   "cell_type": "markdown",
   "id": "b49cd2fe",
   "metadata": {},
   "source": [
    "**Print process ancestry**"
   ]
  },
  {
   "cell_type": "code",
   "execution_count": 4,
   "id": "3d2b83b9",
   "metadata": {},
   "outputs": [
    {
     "name": "stdout",
     "output_type": "stream",
     "text": [
      "smss.exe => smss.exe => wininit.exe => services.exe => svchost.exe => raserver.exe"
     ]
    }
   ],
   "source": [
    "node = linked_processes.get_head()\n",
    "\n",
    "while node != None:\n",
    "    if node.get_next() == None:\n",
    "        print(node.get_data(),end = \"\")\n",
    "    else:\n",
    "    \n",
    "        print( node.get_data(),end = \" => \")\n",
    "    node = node.get_next()\n",
    "    \n"
   ]
  },
  {
   "cell_type": "markdown",
   "id": "1e1cf5cd",
   "metadata": {},
   "source": [
    "\n",
    "\n"
   ]
  }
 ],
 "metadata": {
  "kernelspec": {
   "display_name": "Python 3 (ipykernel)",
   "language": "python",
   "name": "python3"
  },
  "language_info": {
   "codemirror_mode": {
    "name": "ipython",
    "version": 3
   },
   "file_extension": ".py",
   "mimetype": "text/x-python",
   "name": "python",
   "nbconvert_exporter": "python",
   "pygments_lexer": "ipython3",
   "version": "3.9.5"
  }
 },
 "nbformat": 4,
 "nbformat_minor": 5
}
