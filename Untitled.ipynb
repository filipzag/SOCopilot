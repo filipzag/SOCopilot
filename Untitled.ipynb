{
 "cells": [
  {
   "cell_type": "markdown",
   "id": "f0997546",
   "metadata": {},
   "source": [
    "**Fast fourier transform for beacon detection**"
   ]
  },
  {
   "cell_type": "code",
   "execution_count": 17,
   "id": "5b2ce19f",
   "metadata": {},
   "outputs": [],
   "source": [
    "from elasticsearch import Elasticsearch\n",
    "import urllib3\n",
    "import warnings\n",
    "from flatten_json import flatten\n",
    "import os\n",
    "\n",
    "\n",
    "ELASTIC_PASS = os.environ[\"ES_PASS\"]\n",
    "NODES = [\n",
    "    \"https://esh1p:9200\",\n",
    "    \"https://esh2p:9200\",\n",
    "    \n",
    "]\n",
    "urllib3.disable_warnings(urllib3.exceptions.InsecureRequestWarning)\n",
    "warnings.simplefilter(action='ignore', category=Warning)\n",
    "\n",
    "\n",
    "\n",
    "es = Elasticsearch(NODES,\n",
    "    basic_auth=(\"elastic\", ELASTIC_PASS),\n",
    "    verify_certs=False                       \n",
    ")"
   ]
  },
  {
   "cell_type": "code",
   "execution_count": 23,
   "id": "089829f3",
   "metadata": {},
   "outputs": [],
   "source": [
    "## Query specification\n",
    "\n",
    "\n",
    "index_pattern = \"zeek\"\n",
    "source_ip = \"10.0.19.66\"\n",
    "\n",
    "q_str = 'event.type: connection AND source.ip: \"{}\"'.format(source_ip)\n",
    "\n",
    "\n",
    "query = { \"bool\": {\n",
    "      \"must\": [\n",
    "        {\n",
    "          \"query_string\": {\n",
    "            \"query\": q_str\n",
    "          }\n",
    "        }\n",
    "      ],\n",
    "      \"filter\": [\n",
    "        {\"range\": {\n",
    "          \"@timestamp\": {\n",
    "            \"gte\": \"now-24h/h\",\n",
    "            \"lte\": \"now\"\n",
    "          }\n",
    "        }}\n",
    "      ]\n",
    "    }\n",
    "   \n",
    "}\n",
    "\n",
    "response = es.search(index=index_pattern, query=query,\n",
    "                     source = [ \"@timestamp\", \"destination.ip\"])\n"
   ]
  },
  {
   "cell_type": "code",
   "execution_count": 54,
   "id": "ceba96cb",
   "metadata": {},
   "outputs": [
    {
     "data": {
      "image/png": "[encoded data removed]",
      "text/plain": [
       "<Figure size 640x480 with 1 Axes>"
      ]
     },
     "metadata": {},
     "output_type": "display_data"
    }
   ],
   "source": [
    "import numpy as np\n",
    "import matplotlib.pyplot as plt\n",
    "from datetime import datetime\n",
    "from scipy.fft import fft, rfftfreq, rfft\n",
    "\n",
    "\n",
    "time_format = \"%Y-%m-%dT%H:%M:%S.%fZ\"\n",
    "signals = np.ones((len(response['hits']['hits']),),dtype=int)\n",
    "times = []\n",
    "\n",
    "\n",
    "for event in response['hits']['hits']:\n",
    "    date = datetime.strptime(event['_source']['@timestamp'], time_format)\n",
    "    unix = date.timestamp()\n",
    "    times.append(unix)\n",
    "    \n",
    "np.vstack([signals, times])\n",
    "\n",
    "\n",
    "N = len(response['hits']['hits'])\n",
    "SAMPLE_RATE = 10000000\n",
    "yf = rfft(signals)\n",
    "xf = rfftfreq(N, 1 / SAMPLE_RATE)\n",
    "\n",
    "\n",
    "plt.plot(xf, np.abs(yf))\n",
    "plt.xlim([0, 20000000])\n",
    "plt.show()\n"
   ]
  },
  {
   "cell_type": "code",
   "execution_count": null,
   "id": "53511218",
   "metadata": {},
   "outputs": [],
   "source": []
  }
 ],
 "metadata": {
  "kernelspec": {
   "display_name": "Python 3 (ipykernel)",
   "language": "python",
   "name": "python3"
  },
  "language_info": {
   "codemirror_mode": {
    "name": "ipython",
    "version": 3
   },
   "file_extension": ".py",
   "mimetype": "text/x-python",
   "name": "python",
   "nbconvert_exporter": "python",
   "pygments_lexer": "ipython3",
   "version": "3.9.5"
  }
 },
 "nbformat": 4,
 "nbformat_minor": 5
}
