{
 "cells": [
  {
   "cell_type": "markdown",
   "id": "e89cbf90",
   "metadata": {},
   "source": [
    "**Process tree finder**"
   ]
  },
  {
   "cell_type": "code",
   "execution_count": 1,
   "id": "3aed8989",
   "metadata": {},
   "outputs": [
    {
     "name": "stderr",
     "output_type": "stream",
     "text": [
      "/home/filipzag/.local/lib/python3.9/site-packages/elasticsearch/_sync/client/__init__.py:395: SecurityWarning: Connecting to 'https://esh2p:9200' using TLS with verify_certs=False is insecure\n",
      "  _transport = transport_class(\n",
      "/home/filipzag/.local/lib/python3.9/site-packages/elasticsearch/_sync/client/__init__.py:395: SecurityWarning: Connecting to 'https://esh1p:9200' using TLS with verify_certs=False is insecure\n",
      "  _transport = transport_class(\n"
     ]
    }
   ],
   "source": [
    "from elasticsearch import Elasticsearch\n",
    "import urllib3\n",
    "import warnings\n",
    "from flatten_json import flatten\n",
    "import os\n",
    "\n",
    "\n",
    "ELASTIC_PASS = os.environ[\"ES_PASS\"]\n",
    "NODES = [\n",
    "    \"https://esh1p:9200\",\n",
    "    \"https://esh2p:9200\",\n",
    "    \n",
    "]\n",
    "urllib3.disable_warnings(urllib3.exceptions.InsecureRequestWarning)\n",
    "warnings.simplefilter(action='ignore', category=FutureWarning)\n",
    "\n",
    "\n",
    "es = Elasticsearch(NODES,\n",
    "    basic_auth=(\"elastic\", ELASTIC_PASS),\n",
    "    verify_certs=False                       \n",
    ")"
   ]
  },
  {
   "cell_type": "code",
   "execution_count": 71,
   "id": "b54a442f",
   "metadata": {},
   "outputs": [
    {
     "ename": "SyntaxError",
     "evalue": "invalid syntax (4083172877.py, line 37)",
     "output_type": "error",
     "traceback": [
      "\u001b[0;36m  Cell \u001b[0;32mIn[71], line 37\u001b[0;36m\u001b[0m\n\u001b[0;31m    if len(response['hits']['hits']) > 0:\u001b[0m\n\u001b[0m                                        ^\u001b[0m\n\u001b[0;31mSyntaxError\u001b[0m\u001b[0;31m:\u001b[0m invalid syntax\n"
     ]
    }
   ],
   "source": [
    "import networkx as nx\n",
    "import matplotlib.pyplot as plt\n",
    "from random import randint\n",
    "\n",
    "\n",
    "\n",
    "\n",
    "process_graph = nx.DiGraph()\n",
    "\n",
    "\n",
    "\n",
    "## Query specification\n",
    "\n",
    "\n",
    "index_pattern = \"windows\"\n",
    "process_eid = \"{c14b16f5-01b1-639e-3819-000000003900}\"\n",
    "host_name = \"DESKTOP-FD5EBH9\"\n",
    "\n",
    "\n",
    "q_str = 'event.code: 1 AND host.name: \"{}\" AND proces.entity_id: \"{}\"'.format(host_name, process_eid)\n",
    "\n",
    "positions = {}\n",
    "\n",
    "y_axis = 0\n",
    "\n",
    "\n",
    "def get_child_process(process_eid):\n",
    "    \n",
    "    \n",
    "    q_str = 'event.code: 1 AND host.name: \"{}\" AND process.parent.entity_id: \"{}\"'.format(host_name, process_eid)\n",
    "    \n",
    "    response = es.search(index=index_pattern,\n",
    "          query={\"query_string\": {\n",
    "                   \"query\": q_str }},source = [ \"process.name\", \"process.entity_id\", \"process.parent.entity_id\"] \n",
    "\n",
    "    \n",
    "    if len(response['hits']['hits']) > 0:\n",
    "        \n",
    "                         \n",
    "        x_axis = -((len(response['hits']['hits']) - 1) / 2)\n",
    "        \n",
    "        \n",
    "        for event in response['hits']['hits']:\n",
    "                \n",
    "            \n",
    "            process_graph.add_node(event['_source']['process']['entity_id'], pname = event['_source']['process']['name'], shape = \"ellipse\")\n",
    "            process_graph.add_edge(process_eid,event['_source']['process']['entity_id'], weight = 5)\n",
    "            \n",
    "            if event['_source']['process']['entity_id'] not in positions.keys():\n",
    "                \n",
    "                parent_pos_y = int(positions[event['_source']['process']['parent']['entity_id']][1]) - 1\n",
    "                \n",
    "                positions[event['_source']['process']['entity_id']] = [x_axis, parent_pos_y,]\n",
    "                \n",
    "                if x_axis + 1 == 0:\n",
    "                    x_axis += 2\n",
    "                else: \n",
    "                    x_axis += 1\n",
    "            \n",
    "            get_child_process(event['_source']['process']['entity_id'])\n",
    "\n",
    "            \n",
    "            \n",
    "\n",
    "def  get_parent_process(process_eid):\n",
    "    \n",
    "    global y_axis\n",
    "    \n",
    "    q_str = 'event.code: 1 AND host.name: \"{}\" AND process.entity_id: \"{}\"'.format(host_name, process_eid)\n",
    "    \n",
    "    \n",
    "    response = es.search(index=index_pattern,\n",
    "          query={\"query_string\": {\n",
    "                   \"query\": q_str }},source = [ \"process.name\", \"process.entity_id\", \"process.parent.entity_id\", \"process.parent.executable\"] \n",
    "          )\n",
    "    \n",
    "    \n",
    "    \n",
    "    if len(response['hits']['hits']) > 0:\n",
    "        \n",
    "        target_process = response['hits']['hits'][0][\"_source\"]\n",
    "        \n",
    "        process_graph.add_node(target_process['process']['entity_id'], pname = target_process['process']['name'], shape = \"ellipse\" )\n",
    "        positions[target_process['process']['entity_id']] = [0, y_axis]  \n",
    "        y_axis += 2\n",
    "        \n",
    "        if target_process['process']['parent']['executable'] not in [\"System\", \"C:\\\\Windows\\\\System32\\\\userinit.exe\"]:\n",
    "            \n",
    "            process_graph.add_edge(target_process['process']['parent']['entity_id'], process_eid)  \n",
    "            get_parent_process(target_process['process']['parent']['entity_id'])\n",
    "            \n",
    "            get_child_process(process_eid)\n",
    "    else:\n",
    "        \n",
    "        get_child_process(process_eid)\n",
    "        \n",
    "    \n",
    "        \n",
    "get_parent_process(process_eid)\n"
   ]
  },
  {
   "cell_type": "code",
   "execution_count": 73,
   "id": "59e271e3",
   "metadata": {},
   "outputs": [
    {
     "data": {
      "image/png": "[encoded data removed]",
      "text/plain": [
       "<Figure size 640x480 with 1 Axes>"
      ]
     },
     "metadata": {},
     "output_type": "display_data"
    }
   ],
   "source": [
    "color_map = ['red' if node == process_eid else 'skyblue' for node in process_graph]\n",
    "\n",
    "\n",
    "\n",
    "labels = nx.get_node_attributes(process_graph, 'pname')\n",
    "\n",
    "\n",
    "\n",
    "nx.draw(process_graph, with_labels = True, font_weight = 'bold',labels = labels, pos = positions, node_color = color_map,node_size = 400, margins = 0.1)\n",
    "\n"
   ]
  },
  {
   "cell_type": "code",
   "execution_count": null,
   "id": "de4b92ad",
   "metadata": {},
   "outputs": [],
   "source": []
  },
  {
   "cell_type": "code",
   "execution_count": null,
   "id": "7e889be7",
   "metadata": {},
   "outputs": [],
   "source": []
  }
 ],
 "metadata": {
  "kernelspec": {
   "display_name": "Python 3 (ipykernel)",
   "language": "python",
   "name": "python3"
  },
  "language_info": {
   "codemirror_mode": {
    "name": "ipython",
    "version": 3
   },
   "file_extension": ".py",
   "mimetype": "text/x-python",
   "name": "python",
   "nbconvert_exporter": "python",
   "pygments_lexer": "ipython3",
   "version": "3.9.5"
  }
 },
 "nbformat": 4,
 "nbformat_minor": 5
}
